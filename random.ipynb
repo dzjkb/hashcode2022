{
 "cells": [
  {
   "cell_type": "code",
   "execution_count": 48,
   "metadata": {},
   "outputs": [],
   "source": [
    "import numpy as np\n",
    "from penis import wez_sie\n",
    "from collections import defaultdict\n",
    "\n",
    "\n",
    "datafiles = ['data/a_an_example.in.txt', 'data/b_better_start_small.in.txt', 'data\\c_collaboration.in.txt']\n",
    "\n",
    "data = wez_sie(datafiles[0])\n",
    "\n",
    "\n",
    "\n",
    "def random(data, sort_heur = lambda x: x):\n",
    "    coders = preproc(data)\n",
    "    sort_heur(data)\n",
    "    outputs = defaultdict(list)\n",
    "    for project in data.projekty:\n",
    "        fill_project(project, coders, outputs)\n",
    "    return outputs\n",
    "\n",
    "def preproc(data):\n",
    "    coders = defaultdict(lambda : defaultdict(set))\n",
    "    for coder in data.contrs:\n",
    "        for skill, level in coder.skille.items():\n",
    "            coders[skill][level].add(coder)\n",
    "    \n",
    "    return coders\n",
    "\n",
    "\n",
    "def fill_project(project, coders, output):\n",
    "    project_outputs = []\n",
    "    for skill, level in project.skile.items():\n",
    "        chosen_dev = None\n",
    "        for current_level in range(level, np.max(list(coders[skill].keys())) + 1):\n",
    "            chosen_dev = choose_coder_for_level(coders, skill, current_level)\n",
    "            if chosen_dev:\n",
    "                if current_level == level:\n",
    "                    coders[skill][level].remove(chosen_dev)\n",
    "                    chosen_dev.skille[skill] = chosen_dev.skille[skill] + 1\n",
    "                    coders[skill][level+1].add(chosen_dev)\n",
    "                #project_outputs.append((project.nazwa, chosen_dev, skill))\n",
    "                output[project.nazwa].append(chosen_dev.imie)\n",
    "\n",
    "                break\n",
    "            #     for skill, level in chosen_dev.skille.items():\n",
    "            #         coders[skill][level].pop(person)\n",
    "            #     break\n",
    "\n",
    "        # if not chosen_dev:\n",
    "        #     return None\n",
    "    \n",
    "\n",
    "    return output\n",
    "\n",
    "def choose_coder_for_level(coders, skill, level):\n",
    "    if len(coders[skill][level]):\n",
    "        chosen_dev = np.random.choice(list(coders[skill][level]), 1)[0]\n",
    "        return chosen_dev\n",
    "    else:\n",
    "        return None"
   ]
  },
  {
   "cell_type": "code",
   "execution_count": 49,
   "metadata": {},
   "outputs": [
    {
     "data": {
      "text/plain": [
       "defaultdict(list, {'WebServer': ['Bob', 'Anna'], 'WebChat': ['Maria', 'Bob']})"
      ]
     },
     "execution_count": 49,
     "metadata": {},
     "output_type": "execute_result"
    }
   ],
   "source": [
    "random(data)"
   ]
  }
 ],
 "metadata": {
  "interpreter": {
   "hash": "23003235aec83e14c938c39c5b07fa90f679f2076118e60c67294ff40641570e"
  },
  "kernelspec": {
   "display_name": "Python 3.9.7 64-bit ('base39': conda)",
   "language": "python",
   "name": "python3"
  },
  "language_info": {
   "codemirror_mode": {
    "name": "ipython",
    "version": 3
   },
   "file_extension": ".py",
   "mimetype": "text/x-python",
   "name": "python",
   "nbconvert_exporter": "python",
   "pygments_lexer": "ipython3",
   "version": "3.9.7"
  },
  "orig_nbformat": 4
 },
 "nbformat": 4,
 "nbformat_minor": 2
}
